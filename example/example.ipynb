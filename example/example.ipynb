{
 "cells": [
  {
   "cell_type": "code",
   "execution_count": 1,
   "metadata": {},
   "outputs": [],
   "source": [
    "# from WebSearch import Bing\n",
    "# from WebSearch import Google\n",
    "from WebSearch import Yahoo\n",
    "self = Yahoo(driverPath=\"./chromedriver\")"
   ]
  },
  {
   "cell_type": "code",
   "execution_count": 2,
   "metadata": {},
   "outputs": [],
   "source": [
    "self.open()"
   ]
  },
  {
   "cell_type": "code",
   "execution_count": 3,
   "metadata": {},
   "outputs": [
    {
     "data": {
      "text/plain": [
       "{0: {'title': 'Key Official HomePage', 'url': 'http://key.visualarts.gr.jp/'},\n",
       " 1: {'title': 'Key - ウィキペディア', 'url': 'https://ja.wikipedia.org/wiki/Key'},\n",
       " 2: {'title': 'Key開発室 (@key_official) | Twitter',\n",
       "  'url': 'https://twitter.com/key_official'},\n",
       " 3: {'title': 'keyのまとめ検索結果（155件）',\n",
       "  'url': 'https://matome.naver.jp/r/yj/search?q=key&slot=4&sf=1'},\n",
       " 4: {'title': 'keyのリアルタイム検索結果',\n",
       "  'url': 'https://search.yahoo.co.jp/realtime/search?rkf=2&ei=UTF-8&p=key+OR+%23key'},\n",
       " 5: {'title': 'keyの意味・用例｜英辞郎 on the WEB：アルク',\n",
       "  'url': 'https://eow.alc.co.jp/search?q=key'},\n",
       " 6: {'title': 'ミュージックランドKEY', 'url': 'https://www.musicland.co.jp/'},\n",
       " 7: {'title': 'keyの意味・使い方 - 英和辞典 Weblio辞書',\n",
       "  'url': 'https://ejje.weblio.jp/content/key'},\n",
       " 8: {'title': 'Keyとは (キーとは) [単語記事] - ニコニコ大百科',\n",
       "  'url': 'http://dic.nicovideo.jp/a/key'},\n",
       " 9: {'title': 'キイ(K.e.y)｜ホットペッパービューティー',\n",
       "  'url': 'https://beauty.hotpepper.jp/slnH000260381/'},\n",
       " 10: {'title': '原宿・表参道｜美容院・美容室｜K.e.y hair&make｜ ヘアカタログ ...',\n",
       "  'url': 'http://www.key-hair.com/'},\n",
       " 11: {'title': 'keyに関するニュース',\n",
       "  'url': 'https://news.yahoo.co.jp/search/?rkf=2&ei=UTF-8&p=key'}}"
      ]
     },
     "execution_count": 3,
     "metadata": {},
     "output_type": "execute_result"
    }
   ],
   "source": [
    "ret = self.search(\"key\")\n",
    "ret"
   ]
  },
  {
   "cell_type": "code",
   "execution_count": 4,
   "metadata": {},
   "outputs": [],
   "source": [
    "self.close()"
   ]
  },
  {
   "cell_type": "code",
   "execution_count": null,
   "metadata": {},
   "outputs": [],
   "source": []
  }
 ],
 "metadata": {
  "kernelspec": {
   "display_name": "Python 3",
   "language": "python",
   "name": "python3"
  },
  "language_info": {
   "codemirror_mode": {
    "name": "ipython",
    "version": 3
   },
   "file_extension": ".py",
   "mimetype": "text/x-python",
   "name": "python",
   "nbconvert_exporter": "python",
   "pygments_lexer": "ipython3",
   "version": "3.6.5"
  }
 },
 "nbformat": 4,
 "nbformat_minor": 2
}
